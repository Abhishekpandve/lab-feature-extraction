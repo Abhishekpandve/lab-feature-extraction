{
 "cells": [
  {
   "cell_type": "markdown",
   "metadata": {},
   "source": [
    "# Before you start:\n",
    "- Read the README.md file\n",
    "- Comment as much as you can and use the resources (README.md file)\n",
    "- Always state the H0 and H1 before conducting the hypothesis test.\n",
    "- Happy learning!"
   ]
  },
  {
   "cell_type": "code",
   "execution_count": 1,
   "metadata": {},
   "outputs": [],
   "source": [
    "# import numpy and pandas\n",
    "import pandas as pd\n",
    "import numpy as np\n"
   ]
  },
  {
   "cell_type": "markdown",
   "metadata": {},
   "source": [
    "# Challenge 1 - Exploring the Data\n",
    "\n",
    "In this challenge, we will examine all salaries of employees of the City of Chicago. We will start by loading the dataset and examining its contents. "
   ]
  },
  {
   "cell_type": "code",
   "execution_count": null,
   "metadata": {},
   "outputs": [],
   "source": [
    "# Your code here:\n",
    "employee_data = pd.read_csv('Current_Employee_Names__Salaries__and_Position_Titles.csv')\n"
   ]
  },
  {
   "cell_type": "markdown",
   "metadata": {},
   "source": [
    "Examine the `salaries` dataset using the `head` function below."
   ]
  },
  {
   "cell_type": "code",
   "execution_count": 2,
   "metadata": {},
   "outputs": [
    {
     "name": "stdout",
     "output_type": "stream",
     "text": [
      "                     Name                 Job Titles        Department  \\\n",
      "0  ADRIANO,  RACQUEL ANNE                  PARAMEDIC              FIRE   \n",
      "1       AFFANEH,  MAHIR A             POLICE OFFICER            POLICE   \n",
      "2       AFOENYI,  PHYLLIS  TITLE V PROGRAM TRAINEE I  FAMILY & SUPPORT   \n",
      "3         AGAR,  BULENT B        DEPUTY COMMISSIONER       WATER MGMNT   \n",
      "4         AGEE,  LAWRENCE             POLICE OFFICER            POLICE   \n",
      "\n",
      "  Full or Part-Time Salary or Hourly  Typical Hours  Annual Salary  \\\n",
      "0                 F           Salary            NaN        72510.0   \n",
      "1                 F           Salary            NaN        93354.0   \n",
      "2                 P           Hourly           20.0            NaN   \n",
      "3                 F           Salary            NaN       132972.0   \n",
      "4                 F           Salary            NaN        90024.0   \n",
      "\n",
      "   Hourly Rate  \n",
      "0          NaN  \n",
      "1          NaN  \n",
      "2         13.0  \n",
      "3          NaN  \n",
      "4          NaN  \n"
     ]
    }
   ],
   "source": [
    "# Your code here:\n",
    "employee_data = pd.read_csv('Current_Employee_Names__Salaries__and_Position_Titles.csv')\n",
    "\n",
    "# Display the first few rows of the dataset\n",
    "print(employee_data.head())\n"
   ]
  },
  {
   "cell_type": "markdown",
   "metadata": {},
   "source": [
    "We see from looking at the `head` function that there is quite a bit of missing data. Let's examine how much missing data is in each column. Produce this output in the cell below"
   ]
  },
  {
   "cell_type": "code",
   "execution_count": 3,
   "metadata": {},
   "outputs": [
    {
     "name": "stdout",
     "output_type": "stream",
     "text": [
      "                     Name                 Job Titles        Department  \\\n",
      "0  ADRIANO,  RACQUEL ANNE                  PARAMEDIC              FIRE   \n",
      "1       AFFANEH,  MAHIR A             POLICE OFFICER            POLICE   \n",
      "2       AFOENYI,  PHYLLIS  TITLE V PROGRAM TRAINEE I  FAMILY & SUPPORT   \n",
      "3         AGAR,  BULENT B        DEPUTY COMMISSIONER       WATER MGMNT   \n",
      "4         AGEE,  LAWRENCE             POLICE OFFICER            POLICE   \n",
      "\n",
      "  Full or Part-Time Salary or Hourly  Typical Hours  Annual Salary  \\\n",
      "0                 F           Salary            NaN        72510.0   \n",
      "1                 F           Salary            NaN        93354.0   \n",
      "2                 P           Hourly           20.0            NaN   \n",
      "3                 F           Salary            NaN       132972.0   \n",
      "4                 F           Salary            NaN        90024.0   \n",
      "\n",
      "   Hourly Rate  \n",
      "0          NaN  \n",
      "1          NaN  \n",
      "2         13.0  \n",
      "3          NaN  \n",
      "4          NaN  \n"
     ]
    }
   ],
   "source": [
    "# Your code here:\n",
    "columns = [\"Name\", \"Job Titles\", \"Department\", \"Full or Part-Time\", \"Salary or Hourly\", \"Typical Hours\", \"Annual Salary\", \"Hourly Rate\"]\n",
    "dataset = pd.read_csv(\"Current_Employee_Names__Salaries__and_Position_Titles.csv\", usecols=columns)\n",
    "\n",
    "# Display the first few rows of the dataset\n",
    "print(dataset.head())\n"
   ]
  },
  {
   "cell_type": "markdown",
   "metadata": {},
   "source": [
    "Let's also look at the count of hourly vs. salaried employees. Write the code in the cell below"
   ]
  },
  {
   "cell_type": "code",
   "execution_count": 4,
   "metadata": {},
   "outputs": [
    {
     "name": "stdout",
     "output_type": "stream",
     "text": [
      "Salary    25528\n",
      "Hourly     8174\n",
      "Name: Salary or Hourly, dtype: int64\n"
     ]
    }
   ],
   "source": [
    "# Your code here:\n",
    "# Count of hourly vs. salaried employees\n",
    "employee_type_counts = dataset[\"Salary or Hourly\"].value_counts()\n",
    "\n",
    "# Display the count\n",
    "print(employee_type_counts)\n"
   ]
  },
  {
   "cell_type": "markdown",
   "metadata": {},
   "source": [
    "What this information indicates is that the table contains information about two types of employees - salaried and hourly. Some columns apply only to one type of employee while other columns only apply to another kind. This is why there are so many missing values. Therefore, we will not do anything to handle the missing values."
   ]
  },
  {
   "cell_type": "markdown",
   "metadata": {},
   "source": [
    "There are different departments in the city. List all departments and the count of employees in each department."
   ]
  },
  {
   "cell_type": "code",
   "execution_count": 5,
   "metadata": {},
   "outputs": [
    {
     "name": "stdout",
     "output_type": "stream",
     "text": [
      "Department\n",
      "ADMIN HEARNG              38\n",
      "ANIMAL CONTRL             75\n",
      "AVIATION                1856\n",
      "BOARD OF ELECTION        111\n",
      "BOARD OF ETHICS            8\n",
      "BUDGET & MGMT             44\n",
      "BUILDINGS                258\n",
      "BUSINESS AFFAIRS         167\n",
      "CITY CLERK                88\n",
      "CITY COUNCIL             362\n",
      "COPA                     123\n",
      "CULTURAL AFFAIRS          74\n",
      "DAIS                    1033\n",
      "DISABILITIES              28\n",
      "FAMILY & SUPPORT         656\n",
      "FINANCE                  544\n",
      "FIRE                    4627\n",
      "HEALTH                   467\n",
      "HOUSING                   66\n",
      "HOUSING & ECON DEV       154\n",
      "HUMAN RELATIONS           17\n",
      "HUMAN RESOURCES           75\n",
      "INSPECTOR GEN             95\n",
      "LAW                      398\n",
      "LICENSE APPL COMM          1\n",
      "MAYOR'S OFFICE           104\n",
      "OEMC                    1737\n",
      "POLICE                 13848\n",
      "POLICE BOARD               2\n",
      "PROCUREMENT               84\n",
      "PUBLIC LIBRARY          1088\n",
      "PUBLIC SAFETY ADMIN      244\n",
      "STREETS & SAN           2175\n",
      "TRANSPORTN              1113\n",
      "TREASURER                 28\n",
      "WATER MGMNT             1914\n",
      "Name: Name, dtype: int64\n"
     ]
    }
   ],
   "source": [
    "# Your code here:\n",
    "# List all departments and count of employees in each department\n",
    "department_counts = dataset.groupby('Department')['Name'].count()\n",
    "\n",
    "# Display the result\n",
    "print(department_counts)\n",
    "\n"
   ]
  },
  {
   "cell_type": "markdown",
   "metadata": {},
   "source": [
    "# Challenge 2 - Hypothesis Tests\n",
    "\n",
    "In this section of the lab, we will test whether the hourly wage of all hourly workers is significantly different from $30/hr. Import the correct one sample test function from scipy and perform the hypothesis test for a 95% two sided confidence interval."
   ]
  },
  {
   "cell_type": "code",
   "execution_count": 6,
   "metadata": {},
   "outputs": [
    {
     "name": "stdout",
     "output_type": "stream",
     "text": [
      "Reject the null hypothesis. The hourly wage is significantly different from $30/hr.\n"
     ]
    }
   ],
   "source": [
    "# Your code here:\n",
    "from scipy.stats import ttest_1samp\n",
    "\n",
    "# Extract hourly rates for hourly workers\n",
    "hourly_rates = dataset[dataset['Salary or Hourly'] == 'Hourly']['Hourly Rate'].dropna()\n",
    "\n",
    "\n",
    "# H0: The hourly wage is equal to $30/hr\n",
    "# H1: The hourly wage is different from $30/hr\n",
    "null_hypothesis = 30\n",
    "\n",
    "# Perform the one-sample t-test\n",
    "t_statistic, p_value = ttest_1samp(hourly_rates, null_hypothesis)\n",
    "\n",
    "# Define the significance level\n",
    "alpha = 0.05\n",
    "\n",
    "# Check if the p-value is less than the significance level\n",
    "if p_value < alpha:\n",
    "    print(f\"Reject the null hypothesis. The hourly wage is significantly different from ${null_hypothesis}/hr.\")\n",
    "else:\n",
    "    print(f\"Fail to reject the null hypothesis. There is not enough evidence to suggest a significant difference from ${null_hypothesis}/hr.\")\n",
    "\n"
   ]
  },
  {
   "cell_type": "markdown",
   "metadata": {},
   "source": [
    "We are also curious about salaries in the police force. The chief of police in Chicago claimed in a press briefing that salaries this year are higher than last year's mean of $86000/year a year for all salaried employees. Test this one sided hypothesis using a 95% confidence interval.\n",
    "\n",
    "Hint: A one tailed test has a p-value that is half of the two tailed p-value. If our Null hypothesis is less than or equal to, then to reject, the test statistic must be positive (rejects the <) and the p-value below 0.05 (rejects the =)."
   ]
  },
  {
   "cell_type": "code",
   "execution_count": 7,
   "metadata": {},
   "outputs": [
    {
     "name": "stdout",
     "output_type": "stream",
     "text": [
      "Reject the null hypothesis. The mean salary for police force is significantly higher than $86000/year.\n"
     ]
    }
   ],
   "source": [
    "# Your code here:\n",
    "\n",
    "from scipy.stats import ttest_1samp\n",
    "\n",
    "# Extract annual salaries for police force\n",
    "police_salaries = dataset[(dataset['Department'] == 'POLICE') & (dataset['Salary or Hourly'] == 'Salary')]['Annual Salary'].dropna()\n",
    "\n",
    "\n",
    "# H0: The mean salary for police force is less than or equal to $86,000/year\n",
    "# H1: The mean salary for police force is greater than $86,000/year\n",
    "null_hypothesis = 86000\n",
    "\n",
    "# Perform the one-sample t-test\n",
    "t_statistic, p_value = ttest_1samp(police_salaries, null_hypothesis)\n",
    "\n",
    "# Divide p-value by 2 for one-sided test\n",
    "p_value /= 2\n",
    "\n",
    "# Define the significance level\n",
    "alpha = 0.05\n",
    "\n",
    "# Check if the p-value is less than the significance level\n",
    "if p_value < alpha and t_statistic > 0:\n",
    "    print(f\"Reject the null hypothesis. The mean salary for police force is significantly higher than ${null_hypothesis}/year.\")\n",
    "else:\n",
    "    print(f\"Fail to reject the null hypothesis. There is not enough evidence to suggest a significant difference from ${null_hypothesis}/year.\")\n"
   ]
  },
  {
   "cell_type": "markdown",
   "metadata": {},
   "source": [
    "Using the `crosstab` function, find the department that has the most hourly workers. "
   ]
  },
  {
   "cell_type": "code",
   "execution_count": 8,
   "metadata": {},
   "outputs": [
    {
     "name": "stdout",
     "output_type": "stream",
     "text": [
      "The department with the most hourly workers is STREETS & SAN with 1846 hourly workers.\n"
     ]
    }
   ],
   "source": [
    "# Your code here:\n",
    "\n",
    "import pandas as pd\n",
    "\n",
    "# Create a cross-tabulation of Department and Salary or Hourly\n",
    "department_hourly_cross = pd.crosstab(dataset['Department'], dataset['Salary or Hourly'])\n",
    "\n",
    "# Extract the count of hourly workers\n",
    "hourly_counts = department_hourly_cross['Hourly']\n",
    "\n",
    "# Find the department with the most hourly workers\n",
    "max_hourly_department = hourly_counts.idxmax()\n",
    "max_hourly_count = hourly_counts.max()\n",
    "\n",
    "print(f\"The department with the most hourly workers is {max_hourly_department} with {max_hourly_count} hourly workers.\")\n"
   ]
  },
  {
   "cell_type": "markdown",
   "metadata": {},
   "source": [
    "The workers from the department with the most hourly workers have complained that their hourly wage is less than $35/hour. Using a one sample t-test, test this one-sided hypothesis at the 95% confidence level."
   ]
  },
  {
   "cell_type": "code",
   "execution_count": 9,
   "metadata": {},
   "outputs": [
    {
     "name": "stdout",
     "output_type": "stream",
     "text": [
      "The p-value (0.0001) is less than alpha (0.05), so we reject the null hypothesis.\n",
      "There is evidence that the hourly wage is less than $35/hour.\n"
     ]
    }
   ],
   "source": [
    "# Your code here:\n",
    "\n",
    "from scipy.stats import ttest_1samp\n",
    "\n",
    "# Extract hourly wages for the department with the most hourly workers\n",
    "hourly_wages_max_department = dataset.loc[dataset['Department'] == max_hourly_department, 'Hourly Rate'].dropna()\n",
    "\n",
    "# Perform one-sample t-test\n",
    "t_stat, p_value = ttest_1samp(hourly_wages_max_department, 35)\n",
    "\n",
    "# Check the result\n",
    "alpha = 0.05\n",
    "if p_value < alpha:\n",
    "    print(f\"The p-value ({p_value:.4f}) is less than alpha ({alpha}), so we reject the null hypothesis.\")\n",
    "    print(\"There is evidence that the hourly wage is less than $35/hour.\")\n",
    "else:\n",
    "    print(f\"The p-value ({p_value:.4f}) is greater than alpha ({alpha}), so we fail to reject the null hypothesis.\")\n",
    "    print(\"There is not enough evidence that the hourly wage is less than $35/hour.\")\n"
   ]
  },
  {
   "cell_type": "markdown",
   "metadata": {},
   "source": [
    "# Challenge 3: To practice - Constructing Confidence Intervals\n",
    "\n",
    "While testing our hypothesis is a great way to gather empirical evidence for accepting or rejecting the hypothesis, another way to gather evidence is by creating a confidence interval. A confidence interval gives us information about the true mean of the population. So for a 95% confidence interval, we are 95% sure that the mean of the population is within the confidence interval. \n",
    ").\n",
    "\n",
    "To read more about confidence intervals, click [here](https://en.wikipedia.org/wiki/Confidence_interval).\n",
    "\n",
    "\n",
    "In the cell below, we will construct a 95% confidence interval for the mean hourly wage of all hourly workers. \n",
    "\n",
    "The confidence interval is computed in SciPy using the `t.interval` function. You can read more about this function [here](https://docs.scipy.org/doc/scipy-0.14.0/reference/generated/scipy.stats.t.html).\n",
    "\n",
    "To compute the confidence interval of the hourly wage, use the 0.95 for the confidence level, number of rows - 1 for degrees of freedom, the mean of the sample for the location parameter and the standard error for the scale. The standard error can be computed using [this](https://docs.scipy.org/doc/scipy/reference/generated/scipy.stats.sem.html) function in SciPy."
   ]
  },
  {
   "cell_type": "code",
   "execution_count": 10,
   "metadata": {},
   "outputs": [
    {
     "name": "stdout",
     "output_type": "stream",
     "text": [
      "Mean Hourly Wage: 34.59\n",
      "Standard Error of Mean: 0.15\n",
      "Margin of Error: 0.29\n",
      "95% Confidence Interval: (34.29839539204361, 34.874504045197305)\n"
     ]
    }
   ],
   "source": [
    "# Your code here:\n",
    "from scipy.stats import t, sem\n",
    "\n",
    "# Calculate mean and standard error of hourly wages\n",
    "mean_hourly_wage = dataset['Hourly Rate'].mean()\n",
    "std_error_hourly_wage = sem(dataset['Hourly Rate'].dropna())\n",
    "\n",
    "# Set the confidence level and degrees of freedom\n",
    "confidence_level = 0.95\n",
    "degrees_of_freedom = len(dataset['Hourly Rate'].dropna()) - 1\n",
    "\n",
    "# Calculate the margin of error\n",
    "margin_of_error = t.ppf((1 + confidence_level) / 2, degrees_of_freedom) * std_error_hourly_wage\n",
    "\n",
    "# Calculate the confidence interval\n",
    "confidence_interval = t.interval(confidence_level, degrees_of_freedom, mean_hourly_wage, std_error_hourly_wage)\n",
    "\n",
    "# Print the results\n",
    "print(f\"Mean Hourly Wage: {mean_hourly_wage:.2f}\")\n",
    "print(f\"Standard Error of Mean: {std_error_hourly_wage:.2f}\")\n",
    "print(f\"Margin of Error: {margin_of_error:.2f}\")\n",
    "print(f\"95% Confidence Interval: {confidence_interval}\")\n",
    "\n"
   ]
  },
  {
   "cell_type": "markdown",
   "metadata": {},
   "source": [
    "Now construct the 95% confidence interval for all salaried employeed in the police in the cell below."
   ]
  },
  {
   "cell_type": "code",
   "execution_count": 11,
   "metadata": {},
   "outputs": [
    {
     "name": "stdout",
     "output_type": "stream",
     "text": [
      "Mean Annual Salary: 88834.12\n",
      "Standard Error of Mean: 153.05\n",
      "Margin of Error: 300.00\n",
      "95% Confidence Interval: (88534.1182885883, 89134.11955863392)\n"
     ]
    }
   ],
   "source": [
    "# Your code here:\n",
    "\n",
    "from scipy.stats import t, sem\n",
    "\n",
    "# Filter dataset for salaried employees in the police department\n",
    "police_salaried_data = dataset[(dataset['Salary or Hourly'] == 'Salary') & (dataset['Department'] == 'POLICE')]\n",
    "\n",
    "mean_annual_salary = police_salaried_data['Annual Salary'].mean()\n",
    "std_error_annual_salary = sem(police_salaried_data['Annual Salary'].dropna())\n",
    "\n",
    "\n",
    "confidence_level = 0.95\n",
    "degrees_of_freedom = len(police_salaried_data['Annual Salary'].dropna()) - 1\n",
    "\n",
    "# Calculate the margin of error\n",
    "margin_of_error = t.ppf((1 + confidence_level) / 2, degrees_of_freedom) * std_error_annual_salary\n",
    "\n",
    "# Calculate the confidence interval\n",
    "confidence_interval = t.interval(confidence_level, degrees_of_freedom, mean_annual_salary, std_error_annual_salary)\n",
    "\n",
    "# Print the results\n",
    "print(f\"Mean Annual Salary: {mean_annual_salary:.2f}\")\n",
    "print(f\"Standard Error of Mean: {std_error_annual_salary:.2f}\")\n",
    "print(f\"Margin of Error: {margin_of_error:.2f}\")\n",
    "print(f\"95% Confidence Interval: {confidence_interval}\")\n"
   ]
  },
  {
   "cell_type": "markdown",
   "metadata": {},
   "source": [
    "# Bonus Challenge - Hypothesis Tests of Proportions\n",
    "\n",
    "Another type of one sample test is a hypothesis test of proportions. In this test, we examine whether the proportion of a group in our sample is significantly different than a fraction. \n",
    "\n",
    "You can read more about one sample proportion tests [here](http://sphweb.bumc.bu.edu/otlt/MPH-Modules/BS/SAS/SAS6-CategoricalData/SAS6-CategoricalData2.html).\n",
    "\n",
    "In the cell below, use the `proportions_ztest` function from `statsmodels` to perform a hypothesis test that will determine whether the number of hourly workers in the City of Chicago is significantly different from 25% at the 95% confidence level."
   ]
  },
  {
   "cell_type": "code",
   "execution_count": 12,
   "metadata": {},
   "outputs": [
    {
     "name": "stdout",
     "output_type": "stream",
     "text": [
      "Z-statistic: -3.1962\n",
      "P-value: 0.0014\n",
      "The number of hourly workers is significantly different from 25%.\n"
     ]
    }
   ],
   "source": [
    "# Your code here:\n",
    "from statsmodels.stats.proportion import proportions_ztest\n",
    "\n",
    "# Count of hourly workers\n",
    "hourly_count = len(dataset[dataset['Salary or Hourly'] == 'Hourly'])\n",
    "\n",
    "# Total number of workers\n",
    "total_count = len(dataset)\n",
    "\n",
    "# Hypothesized proportion (25%)\n",
    "hypothesized_proportion = 0.25\n",
    "\n",
    "# Perform the hypothesis test\n",
    "z_stat, p_value = proportions_ztest(hourly_count, total_count, hypothesized_proportion)\n",
    "\n",
    "# Print the results\n",
    "print(f\"Z-statistic: {z_stat:.4f}\")\n",
    "print(f\"P-value: {p_value:.4f}\")\n",
    "\n",
    "# Check if the p-value is less than the significance level (0.05)\n",
    "if p_value < 0.05:\n",
    "    print(\"The number of hourly workers is significantly different from 25%.\")\n",
    "else:\n",
    "    print(\"The number of hourly workers is not significantly different from 25%.\")\n",
    "\n"
   ]
  },
  {
   "cell_type": "code",
   "execution_count": null,
   "metadata": {},
   "outputs": [],
   "source": []
  }
 ],
 "metadata": {
  "kernelspec": {
   "display_name": "Python 3",
   "language": "python",
   "name": "python3"
  },
  "language_info": {
   "codemirror_mode": {
    "name": "ipython",
    "version": 3
   },
   "file_extension": ".py",
   "mimetype": "text/x-python",
   "name": "python",
   "nbconvert_exporter": "python",
   "pygments_lexer": "ipython3",
   "version": "3.8.5"
  }
 },
 "nbformat": 4,
 "nbformat_minor": 2
}
